{
 "cells": [
  {
   "cell_type": "code",
   "execution_count": null,
   "id": "21ae4289",
   "metadata": {},
   "outputs": [],
   "source": [
    "from PIL import Image \n",
    "import os\n",
    "%matplotlib inline\n",
    "from pycocotools.coco import COCO\n",
    "import matplotlib.pyplot as plt"
   ]
  },
  {
   "cell_type": "code",
   "execution_count": null,
   "id": "109dfbc4",
   "metadata": {},
   "outputs": [],
   "source": [
    "im_path = \"./resized_im\" #path im folder 1\n",
    "coco_annotation_file_path = \"transformed_anns.json\" #path to annotation file 1  \n",
    "coco_annotations = COCO(annotation_file = coco_annotation_file_path)\n",
    "\n",
    "im_path_2 = \"/home/u1/mec0104/Documents/Root AI/Merging datasets/AIRootsPNG/results_1/merged/images\" #path to im folder 2\n",
    "coco_annotation_file_path_2 = \"/home/u1/mec0104/Documents/Root AI/Merging datasets/AIRootsPNG/results_1/merged/annotations/merged.json\" #path to annotation file 2  \n",
    "coco_annotations_2 = COCO(annotation_file = coco_annotation_file_path_2)\n",
    "\n",
    "cat_ids = coco_annotations.getCatIds()\n",
    "print('COCO category ids:')\n",
    "print(cat_ids)\n",
    "cats = coco_annotations.loadCats(cat_ids)\n",
    "names=[cat['name'] for cat in cats]\n",
    "print('COCO categories: \\n{}\\n'.format(' '.join(names)))"
   ]
  },
  {
   "cell_type": "code",
   "execution_count": null,
   "id": "34016086",
   "metadata": {},
   "outputs": [],
   "source": [
    "image_ids = coco_annotations.getImgIds(catIds = cat_ids)\n",
    "print(image_ids)"
   ]
  },
  {
   "cell_type": "code",
   "execution_count": null,
   "id": "138b4119",
   "metadata": {},
   "outputs": [],
   "source": [
    "num = 4050 #pick a number from the image ids above"
   ]
  },
  {
   "cell_type": "code",
   "execution_count": null,
   "id": "3f1a4ec1",
   "metadata": {},
   "outputs": [],
   "source": [
    "image= coco_annotations.loadImgs(num)\n",
    "image = image[0]\n",
    "image_name = image['file_name']\n",
    "print(image_name)\n",
    "image_opened = Image.open(os.path.join(im_path, image_name))\n",
    "annIds = coco_annotations.getAnnIds(imgIds=image['id'], catIds= cat_ids, iscrowd=None)\n",
    "anns = coco_annotations.loadAnns(annIds)\n",
    "plt.imshow(image_opened)\n",
    "coco_annotations.showAnns(anns)"
   ]
  },
  {
   "cell_type": "code",
   "execution_count": null,
   "id": "6564c2d7",
   "metadata": {},
   "outputs": [],
   "source": [
    "image= coco_annotations_2.loadImgs(num)\n",
    "image = image[0]\n",
    "image_name = image['file_name']\n",
    "print(image_name)\n",
    "image_opened_2 = Image.open(os.path.join(im_path_2, image_name))\n",
    "annIds_2 = coco_annotations_2.getAnnIds(imgIds=image['id'], catIds= cat_ids, iscrowd=None)\n",
    "anns_2 = coco_annotations_2.loadAnns(annIds_2)\n",
    "plt.imshow(image_opened_2)\n",
    "coco_annotations_2.showAnns(anns_2)"
   ]
  },
  {
   "cell_type": "code",
   "execution_count": null,
   "id": "dcbe508c",
   "metadata": {},
   "outputs": [],
   "source": []
  }
 ],
 "metadata": {
  "kernelspec": {
   "display_name": "Python 3",
   "language": "python",
   "name": "python3"
  },
  "language_info": {
   "codemirror_mode": {
    "name": "ipython",
    "version": 3
   },
   "file_extension": ".py",
   "mimetype": "text/x-python",
   "name": "python",
   "nbconvert_exporter": "python",
   "pygments_lexer": "ipython3",
   "version": "3.8.8"
  }
 },
 "nbformat": 4,
 "nbformat_minor": 5
}
